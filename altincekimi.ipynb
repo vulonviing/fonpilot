{
 "cells": [
  {
   "cell_type": "code",
   "execution_count": 36,
   "id": "d57751e1-b360-48c1-b9dc-cef19bb575cd",
   "metadata": {},
   "outputs": [
    {
     "name": "stdout",
     "output_type": "stream",
     "text": [
      "Defaulting to user installation because normal site-packages is not writeable\n",
      "Collecting eventlet\n",
      "  Obtaining dependency information for eventlet from https://files.pythonhosted.org/packages/e3/d0/34189a8ab02fc0bdcd1c344b9f12102e679ca5a2e973f0630ec37089a7e4/eventlet-0.34.2-py3-none-any.whl.metadata\n",
      "  Downloading eventlet-0.34.2-py3-none-any.whl.metadata (4.8 kB)\n",
      "Collecting dnspython>=1.15.0 (from eventlet)\n",
      "  Obtaining dependency information for dnspython>=1.15.0 from https://files.pythonhosted.org/packages/f6/b4/0a9bee52c50f226a3cbfb54263d02bb421c7f2adc136520729c2c689c1e5/dnspython-2.4.2-py3-none-any.whl.metadata\n",
      "  Downloading dnspython-2.4.2-py3-none-any.whl.metadata (4.9 kB)\n",
      "Collecting greenlet>=1.0 (from eventlet)\n",
      "  Obtaining dependency information for greenlet>=1.0 from https://files.pythonhosted.org/packages/47/79/26d54d7d700ef65b689fc2665a40846d13e834da0486674a8d4f0f371a47/greenlet-3.0.3-cp311-cp311-win_amd64.whl.metadata\n",
      "  Downloading greenlet-3.0.3-cp311-cp311-win_amd64.whl.metadata (3.9 kB)\n",
      "Requirement already satisfied: six>=1.10.0 in c:\\users\\emrec\\appdata\\roaming\\python\\python311\\site-packages (from eventlet) (1.16.0)\n",
      "Downloading eventlet-0.34.2-py3-none-any.whl (360 kB)\n",
      "   ---------------------------------------- 360.3/360.3 kB 1.2 MB/s eta 0:00:00\n",
      "Downloading dnspython-2.4.2-py3-none-any.whl (300 kB)\n",
      "   ---------------------------------------- 300.4/300.4 kB 3.1 MB/s eta 0:00:00\n",
      "Downloading greenlet-3.0.3-cp311-cp311-win_amd64.whl (292 kB)\n",
      "   ---------------------------------------- 292.8/292.8 kB 3.0 MB/s eta 0:00:00\n",
      "Installing collected packages: greenlet, dnspython, eventlet\n",
      "Successfully installed dnspython-2.4.2 eventlet-0.34.2 greenlet-3.0.3\n"
     ]
    },
    {
     "name": "stderr",
     "output_type": "stream",
     "text": [
      "\n",
      "[notice] A new release of pip is available: 23.2.1 -> 23.3.2\n",
      "[notice] To update, run: python.exe -m pip install --upgrade pip\n"
     ]
    }
   ],
   "source": [
    "!pip install eventlet"
   ]
  },
  {
   "cell_type": "code",
   "execution_count": null,
   "id": "8d211537-0fd0-4cb6-9c8b-199c2fea82c2",
   "metadata": {},
   "outputs": [
    {
     "ename": "ModuleNotFoundError",
     "evalue": "No module named 'pandas_datareader'",
     "output_type": "error",
     "traceback": [
      "\u001b[1;31m---------------------------------------------------------------------------\u001b[0m",
      "\u001b[1;31mModuleNotFoundError\u001b[0m                       Traceback (most recent call last)",
      "\u001b[1;32m~\\AppData\\Local\\Temp\\ipykernel_16240\\3534475173.py\u001b[0m in \u001b[0;36m<cell line: 1>\u001b[1;34m()\u001b[0m\n\u001b[1;32m----> 1\u001b[1;33m \u001b[1;32mimport\u001b[0m \u001b[0mpandas_datareader\u001b[0m \u001b[1;32mas\u001b[0m \u001b[0mweb\u001b[0m\u001b[1;33m\u001b[0m\u001b[1;33m\u001b[0m\u001b[0m\n\u001b[0m\u001b[0;32m      2\u001b[0m \u001b[1;32mimport\u001b[0m \u001b[0myfinance\u001b[0m \u001b[1;32mas\u001b[0m \u001b[0myf\u001b[0m\u001b[1;33m\u001b[0m\u001b[1;33m\u001b[0m\u001b[0m\n\u001b[0;32m      3\u001b[0m \u001b[1;32mimport\u001b[0m \u001b[0mdatetime\u001b[0m \u001b[1;32mas\u001b[0m \u001b[0mdatetime\u001b[0m\u001b[1;33m\u001b[0m\u001b[1;33m\u001b[0m\u001b[0m\n\u001b[0;32m      4\u001b[0m \u001b[0mdata\u001b[0m \u001b[1;33m=\u001b[0m \u001b[0myf\u001b[0m\u001b[1;33m.\u001b[0m\u001b[0mdownload\u001b[0m\u001b[1;33m(\u001b[0m\u001b[1;34m\"IBM\"\u001b[0m\u001b[1;33m,\u001b[0m \u001b[0mstart\u001b[0m\u001b[1;33m=\u001b[0m\u001b[1;34m\"2022-04-10\"\u001b[0m\u001b[1;33m,\u001b[0m \u001b[0mend\u001b[0m\u001b[1;33m=\u001b[0m\u001b[1;34m\"2022-05-11\"\u001b[0m\u001b[1;33m,\u001b[0m \u001b[0mthreads\u001b[0m\u001b[1;33m=\u001b[0m\u001b[1;32mFalse\u001b[0m\u001b[1;33m,\u001b[0m \u001b[0mproxy\u001b[0m\u001b[1;33m=\u001b[0m\u001b[1;34m\"http://127.0.0.1:7890\"\u001b[0m\u001b[1;33m)\u001b[0m\u001b[1;33m\u001b[0m\u001b[1;33m\u001b[0m\u001b[0m\n\u001b[0;32m      5\u001b[0m \u001b[0mprint\u001b[0m\u001b[1;33m(\u001b[0m\u001b[0mdata\u001b[0m\u001b[1;33m)\u001b[0m\u001b[1;33m\u001b[0m\u001b[1;33m\u001b[0m\u001b[0m\n",
      "\u001b[1;31mModuleNotFoundError\u001b[0m: No module named 'pandas_datareader'"
     ]
    },
    {
     "name": "stderr",
     "output_type": "stream",
     "text": [
      "Traceback (most recent call last):\n",
      "  File \"C:\\Users\\emrec\\AppData\\Local\\Programs\\Python\\Python39\\lib\\site-packages\\eventlet\\hubs\\hub.py\", line 473, in fire_timers\n",
      "    timer()\n",
      "  File \"C:\\Users\\emrec\\AppData\\Local\\Programs\\Python\\Python39\\lib\\site-packages\\eventlet\\hubs\\timer.py\", line 59, in __call__\n",
      "    cb(*args, **kw)\n",
      "  File \"C:\\Users\\emrec\\AppData\\Local\\Programs\\Python\\Python39\\lib\\site-packages\\eventlet\\semaphore.py\", line 147, in _do_acquire\n",
      "    waiter.switch()\n",
      "greenlet.error: cannot switch to a different thread\n"
     ]
    }
   ],
   "source": [
    "import pandas_datareader as web\n",
    "import yfinance as yf\n",
    "import datetime as datetime\n",
    "data = yf.download(\"IBM\", start=\"2022-04-10\", end=\"2022-05-11\", threads=False, proxy=\"http://127.0.0.1:7890\")\n",
    "print(data)"
   ]
  },
  {
   "cell_type": "code",
   "execution_count": null,
   "id": "33fe7a94-ff96-439d-99e7-9def03e8e0f6",
   "metadata": {},
   "outputs": [],
   "source": []
  }
 ],
 "metadata": {
  "kernelspec": {
   "display_name": "Python 3 (ipykernel)",
   "language": "python",
   "name": "python3"
  },
  "language_info": {
   "codemirror_mode": {
    "name": "ipython",
    "version": 3
   },
   "file_extension": ".py",
   "mimetype": "text/x-python",
   "name": "python",
   "nbconvert_exporter": "python",
   "pygments_lexer": "ipython3",
   "version": "3.9.13"
  }
 },
 "nbformat": 4,
 "nbformat_minor": 5
}
