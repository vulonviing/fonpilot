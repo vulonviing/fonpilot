{
 "cells": [
  {
   "cell_type": "raw",
   "id": "61271b04-c2e8-4406-b3f5-4153f23a58ef",
   "metadata": {
    "tags": []
   },
   "source": [
    "from selenium import webdriver\n",
    "from selenium.webdriver.common.action_chains import ActionChains\n",
    "from selenium.webdriver.common.by import By\n",
    "import time\n",
    "\n",
    "\n",
    "# Chrome WebDriver'ı başlat\n",
    "driver = webdriver.Chrome()\n",
    "\n",
    "# Hedef URL\n",
    "url = \"https://www.tcmb.gov.tr/wps/wcm/connect/TR/TCMB+TR/Main+Menu/Istatistikler/Faiz+Istatistikleri/Bankalarca+Acilan+Mevduat+%28Haftalik%29/\"\n",
    "\n",
    "# Sayfayı aç\n",
    "driver.get(url)\n",
    "\n",
    "# \"Veri\" yazan linki bul ve tıkla\n",
    "veri_link = driver.find_element(By.LINK_TEXT, 'Veri')\n",
    "veri_link.click()\n",
    "\n",
    "time.sleep(120)\n",
    "\n",
    "# \"Excel'e aktar\" butonunu bul\n",
    "excel_button = driver.find_element(By.XPATH, '//*[@id=\"excelButton_2924\"]')\n",
    "\n",
    "# \"Excel'e aktar\" butonunu sol tıkla\n",
    "excel_button.click()\n",
    "\n",
    "# \"Export to Excel file\" seçeneğine tıkla\n",
    "export_option = driver.find_element(By.ID, 'evdsDscModalButtonDownload')\n",
    "export_option.click()\n",
    "\n",
    "time.sleep(120)\n",
    "\n",
    "# WebDriver'ı kapat\n",
    "driver.quit()"
   ]
  },
  {
   "cell_type": "code",
   "execution_count": 14,
   "id": "3e096a3f-f5b3-4ee6-8354-285b296ec9b0",
   "metadata": {
    "tags": []
   },
   "outputs": [],
   "source": [
    "import pandas as pd"
   ]
  },
  {
   "cell_type": "code",
   "execution_count": 48,
   "id": "c45f224a-39f8-4439-b7d1-40876d9a7921",
   "metadata": {
    "tags": []
   },
   "outputs": [],
   "source": [
    "excel_file_path = \"EVDS.xlsx\"\n",
    "mevduat = pd.read_excel(excel_file_path, sheet_name=\"Data\")\n",
    "\n",
    "mevduat = pd.DataFrame(mevduat.iloc[11])[1:]\n",
    "mevduat = mevduat.reset_index()\n",
    "mevduat = mevduat.rename(columns={mevduat.columns[0]: \"Tarih\", mevduat.columns[1]: \"Mevduat\"})\n",
    "\n",
    "mevduat[\"Tarih\"] = pd.to_datetime(mevduat[\"Tarih\"],dayfirst=True)\n",
    "mevduat[\"Mevduat\"] = pd.to_numeric(mevduat[\"Mevduat\"])\n",
    "\n",
    "mevduat.to_excel(\"mevduat.xlsx\")"
   ]
  },
  {
   "cell_type": "code",
   "execution_count": null,
   "id": "0dd80124-aab4-47b7-a13c-2d0eccd75375",
   "metadata": {},
   "outputs": [],
   "source": []
  }
 ],
 "metadata": {
  "kernelspec": {
   "display_name": "Python 3 (ipykernel)",
   "language": "python",
   "name": "python3"
  },
  "language_info": {
   "codemirror_mode": {
    "name": "ipython",
    "version": 3
   },
   "file_extension": ".py",
   "mimetype": "text/x-python",
   "name": "python",
   "nbconvert_exporter": "python",
   "pygments_lexer": "ipython3",
   "version": "3.7.9"
  }
 },
 "nbformat": 4,
 "nbformat_minor": 5
}
