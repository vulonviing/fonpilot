{
 "cells": [
  {
   "cell_type": "code",
   "execution_count": 1,
   "id": "5088507a-cc11-4d19-b0e2-1176a22a4937",
   "metadata": {},
   "outputs": [
    {
     "name": "stderr",
     "output_type": "stream",
     "text": [
      "\n",
      "KeyboardInterrupt\n",
      "\n"
     ]
    }
   ],
   "source": [
    "import pyautogui\n",
    "import numpy as np\n",
    "import cv2\n",
    "import pydirectinput\n",
    "from selenium import webdriver\n",
    "from selenium.webdriver.common.keys import Keys\n",
    "import time"
   ]
  },
  {
   "cell_type": "code",
   "execution_count": null,
   "id": "810b5441-30fd-4247-a320-55c637a7d68d",
   "metadata": {},
   "outputs": [],
   "source": [
    "x, y = pyautogui.position()\n",
    "print(f'Fare imlecinin konumu: x={x}, y={y}')"
   ]
  },
  {
   "cell_type": "code",
   "execution_count": null,
   "id": "ba2f5e8f-7372-4afe-bc0c-5cf17531a815",
   "metadata": {},
   "outputs": [],
   "source": [
    "\n",
    "\n",
    "# Tarayıcıyı başlat\n",
    "driver = webdriver.Chrome()\n",
    "\n",
    "# Tableau linkini aç\n",
    "url = \"https://public.tableau.com/app/profile/emrecan.ulu/viz/FonPilotDev/AnaSayfa\"\n",
    "driver.get(url)\n",
    "\n",
    "# Pencereyi maksimize et\n",
    "driver.maximize_window()\n",
    "\n",
    "# Sayfayı yenile\n",
    "driver.refresh()\n",
    "\n",
    "# Ekranı en öne getir\n",
    "driver.switch_to.window(driver.current_window_handle)\n",
    "\n"
   ]
  },
  {
   "cell_type": "code",
   "execution_count": null,
   "id": "7f0f7bb2-be9c-45f0-9281-5c5410de9c8f",
   "metadata": {},
   "outputs": [],
   "source": [
    "\n",
    "\n",
    "time.sleep(10)\n",
    "pydirectinput.press('F11')\n",
    "time.sleep(2)\n",
    "\n",
    "# Görüntü konumunu belirleme\n",
    "image_x = 1831\n",
    "image_y = 23\n",
    "\n",
    "# Ekran görüntüsü al\n",
    "screenshot = pyautogui.screenshot()\n",
    "screenshot = np.array(screenshot)\n",
    "screenshot = screenshot[:, :, ::-1]\n",
    "\n",
    "# Görüntü eşleştirme - 1\n",
    "yukari_template = cv2.imread('BUTON1.png')\n",
    "result = cv2.matchTemplate(screenshot, yukari_template, cv2.TM_CCOEFF_NORMED)\n",
    "min_val, max_val, min_loc, max_loc = cv2.minMaxLoc(result)\n",
    "top_left = max_loc\n",
    "bottom_right = (top_left[0] + yukari_template.shape[1], top_left[1] + yukari_template.shape[0])\n",
    "\n",
    "# Buton bulunduysa\n",
    "if max_val > 0.8:\n",
    "    print(\"Buton bulundu.\")\n",
    "    button_location = (top_left[0] + yukari_template.shape[1] // 2, top_left[1] + yukari_template.shape[0] // 2)\n",
    "    pydirectinput.click(button_location[0], button_location[1])\n",
    "else:\n",
    "    print(\"Buton bulunamadı.\")\n",
    "\n",
    "time.sleep(12)\n",
    "\n",
    "# Görüntü eşleştirme - 2\n",
    "yukari_template = cv2.imread('BUTON2.png')\n",
    "result = cv2.matchTemplate(screenshot, yukari_template, cv2.TM_CCOEFF_NORMED)\n",
    "min_val, max_val, min_loc, max_loc = cv2.minMaxLoc(result)\n",
    "top_left = max_loc\n",
    "bottom_right = (top_left[0] + yukari_template.shape[1], top_left[1] + yukari_template.shape[0])\n",
    "\n",
    "# Buton bulunduysa\n",
    "if max_val > 0.8:\n",
    "    print(\"Buton bulundu.\")\n",
    "    button_location = (top_left[0] + yukari_template.shape[1] // 2, top_left[1] + yukari_template.shape[0] // 2)\n",
    "    pydirectinput.click(button_location[0], button_location[1])\n",
    "else:\n",
    "    print(\"Buton bulunamadı.\")\n",
    "\n",
    "time.sleep(3)\n",
    "\n",
    "# Görüntü eşleştirme - 3\n",
    "yukari_template = cv2.imread('BUTON3.png')\n",
    "result = cv2.matchTemplate(screenshot, yukari_template, cv2.TM_CCOEFF_NORMED)\n",
    "min_val, max_val, min_loc, max_loc = cv2.minMaxLoc(result)\n",
    "top_left = max_loc\n",
    "bottom_right = (top_left[0] + yukari_template.shape[1], top_left[1] + yukari_template.shape[0])\n",
    "\n",
    "# Buton bulunduysa\n",
    "if max_val > 0.8:\n",
    "    print(\"Buton bulundu.\")\n",
    "    button_location = (top_left[0] + yukari_template.shape[1] // 2, top_left[1] + yukari_template.shape[0] // 2)\n",
    "    # Yüksekliğin %25'i kadar ekleyerek tıklama noktasını güncelle\n",
    "    button_location = (button_location[0], int(button_location[1] - yukari_template.shape[0] * 0.25))\n",
    "    pydirectinput.click(button_location[0], button_location[1])\n",
    "else:\n",
    "    print(\"Buton bulunamadı.\")\n",
    "\n"
   ]
  },
  {
   "cell_type": "code",
   "execution_count": null,
   "id": "533a3745-faf1-4ea8-a4cd-a2a2506f7a15",
   "metadata": {},
   "outputs": [],
   "source": []
  }
 ],
 "metadata": {
  "kernelspec": {
   "display_name": "Python 3 (ipykernel)",
   "language": "python",
   "name": "python3"
  },
  "language_info": {
   "codemirror_mode": {
    "name": "ipython",
    "version": 3
   },
   "file_extension": ".py",
   "mimetype": "text/x-python",
   "name": "python",
   "nbconvert_exporter": "python",
   "pygments_lexer": "ipython3",
   "version": "3.11.7"
  }
 },
 "nbformat": 4,
 "nbformat_minor": 5
}
